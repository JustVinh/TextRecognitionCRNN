{
 "cells": [
  {
   "cell_type": "code",
   "execution_count": 36,
   "id": "theoretical-presence",
   "metadata": {},
   "outputs": [],
   "source": [
    "from keras.layers import Input, Dense, Activation, BatchNormalization, Conv2D, Bidirectional, LSTM\n",
    "from keras.layers import MaxPool2D, Lambda\n",
    "from keras.backend import squeeze, ctc_batch_cost\n",
    "from keras.models import Model\n",
    "import numpy as np\n",
    "from keras.models import Model\n",
    "from keras.callbacks import ModelCheckpoint\n",
    "import string\n",
    "import cv2\n",
    "import os\n",
    "import glob\n",
    "import numpy as np\n",
    "from keras.preprocessing.sequence import pad_sequences"
   ]
  },
  {
   "cell_type": "code",
   "execution_count": 2,
   "id": "educated-statement",
   "metadata": {},
   "outputs": [],
   "source": [
    "char_list = string.ascii_letters+string.digits"
   ]
  },
  {
   "cell_type": "code",
   "execution_count": 3,
   "id": "beginning-projection",
   "metadata": {},
   "outputs": [],
   "source": [
    "inputs = Input(shape=(32,128,1))\n",
    "conv_1 = Conv2D(64, (3,3), activation = 'relu', padding='same')(inputs)\n",
    "\n",
    "pool_1 = MaxPool2D(pool_size=(2, 2), strides=2)(conv_1)\n",
    " \n",
    "conv_2 = Conv2D(128, (3,3), activation = 'relu', padding='same')(pool_1)\n",
    "\n",
    "pool_2 = MaxPool2D(pool_size=(2, 2), strides=2)(conv_2)\n",
    " \n",
    "conv_3 = Conv2D(256, (3,3), activation = 'relu', padding='same')(pool_2)\n",
    " \n",
    "conv_4 = Conv2D(256, (3,3), activation = 'relu', padding='same')(conv_3)\n",
    "\n",
    "pool_4 = MaxPool2D(pool_size=(2, 1))(conv_4)\n",
    " \n",
    "conv_5 = Conv2D(512, (3,3), activation = 'relu', padding='same')(pool_4)\n",
    "\n",
    "batch_norm_5 = BatchNormalization()(conv_5)\n",
    " \n",
    "conv_6 = Conv2D(512, (3,3), activation = 'relu', padding='same')(batch_norm_5)\n",
    "batch_norm_6 = BatchNormalization()(conv_6)\n",
    "pool_6 = MaxPool2D(pool_size=(2, 1))(batch_norm_6)\n",
    " \n",
    "conv_7 = Conv2D(512, (2,2), activation = 'relu')(pool_6)\n",
    " \n",
    "squeezed = Lambda(lambda x: squeeze(x, 1))(conv_7)\n",
    " \n",
    "blstm_1 = Bidirectional(LSTM(128, return_sequences=True, dropout = 0.2))(squeezed)\n",
    "blstm_2 = Bidirectional(LSTM(128, return_sequences=True, dropout = 0.2))(blstm_1)\n",
    " \n",
    "outputs = Dense(len(char_list)+1, activation = 'softmax')(blstm_2)\n",
    "\n",
    "#model de predict\n",
    "act_model = Model(inputs, outputs)"
   ]
  },
  {
   "cell_type": "code",
   "execution_count": 4,
   "id": "binary-cigarette",
   "metadata": {
    "scrolled": true
   },
   "outputs": [
    {
     "name": "stdout",
     "output_type": "stream",
     "text": [
      "Model: \"functional_1\"\n",
      "_________________________________________________________________\n",
      "Layer (type)                 Output Shape              Param #   \n",
      "=================================================================\n",
      "input_1 (InputLayer)         [(None, 32, 128, 1)]      0         \n",
      "_________________________________________________________________\n",
      "conv2d (Conv2D)              (None, 32, 128, 64)       640       \n",
      "_________________________________________________________________\n",
      "max_pooling2d (MaxPooling2D) (None, 16, 64, 64)        0         \n",
      "_________________________________________________________________\n",
      "conv2d_1 (Conv2D)            (None, 16, 64, 128)       73856     \n",
      "_________________________________________________________________\n",
      "max_pooling2d_1 (MaxPooling2 (None, 8, 32, 128)        0         \n",
      "_________________________________________________________________\n",
      "conv2d_2 (Conv2D)            (None, 8, 32, 256)        295168    \n",
      "_________________________________________________________________\n",
      "conv2d_3 (Conv2D)            (None, 8, 32, 256)        590080    \n",
      "_________________________________________________________________\n",
      "max_pooling2d_2 (MaxPooling2 (None, 4, 32, 256)        0         \n",
      "_________________________________________________________________\n",
      "conv2d_4 (Conv2D)            (None, 4, 32, 512)        1180160   \n",
      "_________________________________________________________________\n",
      "batch_normalization (BatchNo (None, 4, 32, 512)        2048      \n",
      "_________________________________________________________________\n",
      "conv2d_5 (Conv2D)            (None, 4, 32, 512)        2359808   \n",
      "_________________________________________________________________\n",
      "batch_normalization_1 (Batch (None, 4, 32, 512)        2048      \n",
      "_________________________________________________________________\n",
      "max_pooling2d_3 (MaxPooling2 (None, 2, 32, 512)        0         \n",
      "_________________________________________________________________\n",
      "conv2d_6 (Conv2D)            (None, 1, 31, 512)        1049088   \n",
      "_________________________________________________________________\n",
      "lambda (Lambda)              (None, 31, 512)           0         \n",
      "_________________________________________________________________\n",
      "bidirectional (Bidirectional (None, 31, 256)           656384    \n",
      "_________________________________________________________________\n",
      "bidirectional_1 (Bidirection (None, 31, 256)           394240    \n",
      "_________________________________________________________________\n",
      "dense (Dense)                (None, 31, 63)            16191     \n",
      "=================================================================\n",
      "Total params: 6,619,711\n",
      "Trainable params: 6,617,663\n",
      "Non-trainable params: 2,048\n",
      "_________________________________________________________________\n"
     ]
    }
   ],
   "source": [
    "act_model.summary()"
   ]
  },
  {
   "cell_type": "code",
   "execution_count": 5,
   "id": "choice-deadline",
   "metadata": {},
   "outputs": [
    {
     "name": "stdout",
     "output_type": "stream",
     "text": [
      "Is it Directory?True\n"
     ]
    }
   ],
   "source": [
    "path = 'C:\\\\Data\\\\Study\\\\IT\\\\Project\\\\Project2\\\\CRNN_Text_Recognition\\\\data\\\\mnt\\\\ramdisk\\\\max\\\\90kDICT32px'\n",
    "print(\"Is it Directory?\" + str(os.path.isdir(path)))"
   ]
  },
  {
   "cell_type": "code",
   "execution_count": 6,
   "id": "eligible-roller",
   "metadata": {},
   "outputs": [],
   "source": [
    "char_list = string.ascii_letters+string.digits\n",
    " \n",
    "def encode_to_labels(txt):\n",
    "    dig_lst = []\n",
    "    for index, char in enumerate(txt):\n",
    "        try:\n",
    "            dig_lst.append(char_list.index(char))\n",
    "        except:\n",
    "            print(char)\n",
    "        \n",
    "    return dig_lst"
   ]
  },
  {
   "cell_type": "code",
   "execution_count": 16,
   "id": "checked-think",
   "metadata": {},
   "outputs": [],
   "source": [
    "\n",
    "training_img = []\n",
    "training_txt = []\n",
    "train_input_length = []\n",
    "train_label_length = []\n",
    "orig_txt = []\n",
    "\n",
    "valid_img = []\n",
    "valid_txt = []\n",
    "valid_input_length = []\n",
    "valid_label_length = []\n",
    "valid_orig_txt = []\n",
    "\n",
    "max_label_len = 0\n",
    "\n",
    "i =1 \n",
    "flag = 0\n",
    "\n",
    "for root, dirnames, filenames in os.walk(path):\n",
    "\n",
    "    for f_name in filenames:\n",
    "        if f_name[-1] == 'g':\n",
    "\n",
    "            img = cv2.cvtColor(cv2.imread(os.path.join(root, f_name)), cv2.COLOR_BGR2GRAY)   \n",
    "\n",
    "            w, h = img.shape\n",
    "            if h > 128 or w > 32:\n",
    "                continue\n",
    "            if w < 32:\n",
    "                add_zeros = np.ones((32-w, h))*255\n",
    "                img = np.concatenate((img, add_zeros))\n",
    "\n",
    "            if h < 128:\n",
    "                add_zeros = np.ones((32, 128-h))*255\n",
    "                img = np.concatenate((img, add_zeros), axis=1)\n",
    "            img = np.expand_dims(img , axis = 2)\n",
    "\n",
    "            # Normalize each image\n",
    "            img = img/255.\n",
    "            txt = f_name.split('_')[1]\n",
    "\n",
    "            if len(txt) > max_label_len:\n",
    "                max_label_len = len(txt)\n",
    "\n",
    "           # split data thanh 9/1\n",
    "            if i%10 == 0:     \n",
    "                valid_orig_txt.append(txt)   \n",
    "                valid_label_length.append(len(txt))\n",
    "                valid_input_length.append(31)\n",
    "                valid_img.append(img)\n",
    "                valid_txt.append(encode_to_labels(txt))\n",
    "            else:\n",
    "                orig_txt.append(txt)   \n",
    "                train_label_length.append(len(txt))\n",
    "                train_input_length.append(31)\n",
    "                training_img.append(img)\n",
    "                training_txt.append(encode_to_labels(txt)) \n",
    "\n",
    "            # break neu dat max data\n",
    "            if i == 150000:\n",
    "                flag = 1\n",
    "                break\n",
    "            i+=1\n",
    "    if flag == 1:\n",
    "        break\n",
    "        \n",
    "train_padded_txt = pad_sequences(training_txt, maxlen=max_label_len, padding='post', value = len(char_list))\n",
    "valid_padded_txt = pad_sequences(valid_txt, maxlen=max_label_len, padding='post', value = len(char_list))"
   ]
  },
  {
   "cell_type": "code",
   "execution_count": 9,
   "id": "lightweight-steps",
   "metadata": {},
   "outputs": [],
   "source": [
    "#test\n",
    "max_label_len =18"
   ]
  },
  {
   "cell_type": "code",
   "execution_count": 10,
   "id": "prepared-gothic",
   "metadata": {},
   "outputs": [],
   "source": [
    "labels = Input(name='the_labels', shape=[max_label_len], dtype='float32')\n",
    "input_length = Input(name='input_length', shape=[1], dtype='int64')\n",
    "label_length = Input(name='label_length', shape=[1], dtype='int64')\n",
    " \n",
    " \n",
    "def ctc_lambda_func(args):\n",
    "    y_pred, labels, input_length, label_length = args\n",
    " \n",
    "    return ctc_batch_cost(labels, y_pred, input_length, label_length)\n",
    "  \n",
    " \n",
    "loss_out = Lambda(ctc_lambda_func, output_shape=(1,), name='ctc')([outputs, labels, input_length, label_length]) \n",
    "\n",
    "#model de train\n",
    "model = Model(inputs=[inputs, labels, input_length, label_length], outputs=loss_out)"
   ]
  },
  {
   "cell_type": "code",
   "execution_count": 19,
   "id": "neural-mortality",
   "metadata": {},
   "outputs": [],
   "source": [
    "model.compile(loss={'ctc': lambda y_true, y_pred: y_pred}, optimizer = 'adam', metrics = ['accuracy'])\n",
    " \n",
    "filepath=\"best_model.hdf5\"\n",
    "checkpoint = ModelCheckpoint(filepath=filepath, monitor='val_loss', verbose=1, save_best_only=True, mode='auto')\n",
    "callbacks_list = [checkpoint]"
   ]
  },
  {
   "cell_type": "code",
   "execution_count": 19,
   "id": "composed-devon",
   "metadata": {},
   "outputs": [],
   "source": [
    "training_img = np.array(training_img)\n",
    "train_input_length = np.array(train_input_length)\n",
    "train_label_length = np.array(train_label_length)\n",
    "\n",
    "valid_img = np.array(valid_img)\n",
    "valid_input_length = np.array(valid_input_length)\n",
    "valid_label_length = np.array(valid_label_length)"
   ]
  },
  {
   "cell_type": "code",
   "execution_count": 42,
   "id": "extensive-profession",
   "metadata": {},
   "outputs": [
    {
     "data": {
      "text/plain": [
       "62"
      ]
     },
     "execution_count": 42,
     "metadata": {},
     "output_type": "execute_result"
    }
   ],
   "source": [
    "len(char_list)"
   ]
  },
  {
   "cell_type": "code",
   "execution_count": 22,
   "id": "adolescent-professional",
   "metadata": {},
   "outputs": [
    {
     "name": "stdout",
     "output_type": "stream",
     "text": [
      "Epoch 1/10\n",
      "36/36 [==============================] - ETA: 0s - loss: 32.5249\n",
      "Epoch 00001: val_loss improved from inf to 28.26527, saving model to best_model.hdf5\n",
      "36/36 [==============================] - 339s 9s/step - loss: 32.5249 - val_loss: 28.2653\n",
      "Epoch 2/10\n",
      "36/36 [==============================] - ETA: 0s - loss: 27.9851\n",
      "Epoch 00002: val_loss improved from 28.26527 to 27.60782, saving model to best_model.hdf5\n",
      "36/36 [==============================] - 321s 9s/step - loss: 27.9851 - val_loss: 27.6078\n",
      "Epoch 3/10\n",
      "36/36 [==============================] - ETA: 0s - loss: 27.5110\n",
      "Epoch 00003: val_loss improved from 27.60782 to 27.57051, saving model to best_model.hdf5\n",
      "36/36 [==============================] - 305s 8s/step - loss: 27.5110 - val_loss: 27.5705\n",
      "Epoch 4/10\n",
      "36/36 [==============================] - ETA: 0s - loss: 27.2551\n",
      "Epoch 00004: val_loss improved from 27.57051 to 26.86847, saving model to best_model.hdf5\n",
      "36/36 [==============================] - 339s 9s/step - loss: 27.2551 - val_loss: 26.8685\n",
      "Epoch 5/10\n",
      "36/36 [==============================] - ETA: 0s - loss: 27.0300\n",
      "Epoch 00005: val_loss did not improve from 26.86847\n",
      "36/36 [==============================] - 299s 8s/step - loss: 27.0300 - val_loss: 27.0057\n",
      "Epoch 6/10\n",
      "36/36 [==============================] - ETA: 0s - loss: 26.9321\n",
      "Epoch 00006: val_loss did not improve from 26.86847\n",
      "36/36 [==============================] - 298s 8s/step - loss: 26.9321 - val_loss: 27.9893\n",
      "Epoch 7/10\n",
      "36/36 [==============================] - ETA: 0s - loss: 26.8176\n",
      "Epoch 00007: val_loss did not improve from 26.86847\n",
      "36/36 [==============================] - 308s 9s/step - loss: 26.8176 - val_loss: 27.5139\n",
      "Epoch 8/10\n",
      "36/36 [==============================] - ETA: 0s - loss: 26.7113\n",
      "Epoch 00008: val_loss did not improve from 26.86847\n",
      "36/36 [==============================] - 300s 8s/step - loss: 26.7113 - val_loss: 26.9613\n",
      "Epoch 9/10\n",
      "36/36 [==============================] - ETA: 0s - loss: 26.5705\n",
      "Epoch 00009: val_loss did not improve from 26.86847\n",
      "36/36 [==============================] - 298s 8s/step - loss: 26.5705 - val_loss: 28.3917\n",
      "Epoch 10/10\n",
      "36/36 [==============================] - ETA: 0s - loss: 26.3663\n",
      "Epoch 00010: val_loss did not improve from 26.86847\n",
      "36/36 [==============================] - 298s 8s/step - loss: 26.3663 - val_loss: 27.3601\n"
     ]
    },
    {
     "data": {
      "text/plain": [
       "<tensorflow.python.keras.callbacks.History at 0x22d3b0e34c0>"
      ]
     },
     "execution_count": 22,
     "metadata": {},
     "output_type": "execute_result"
    }
   ],
   "source": [
    "batch_size = 256\n",
    "epochs = 10\n",
    "model.fit(x=[training_img, train_padded_txt, train_input_length, train_label_length], y=np.zeros(len(training_img)), batch_size=batch_size, epochs = epochs, validation_data = ([valid_img, valid_padded_txt, valid_input_length, valid_label_length], [np.zeros(len(valid_img))]), verbose = 1, callbacks = callbacks_list)"
   ]
  },
  {
   "cell_type": "code",
   "execution_count": 11,
   "id": "similar-breakdown",
   "metadata": {},
   "outputs": [],
   "source": [
    "act_model.load_weights('better_trained_model.hdf5')"
   ]
  },
  {
   "cell_type": "code",
   "execution_count": 12,
   "id": "featured-battlefield",
   "metadata": {
    "scrolled": true
   },
   "outputs": [
    {
     "name": "stdout",
     "output_type": "stream",
     "text": [
      "Model: \"functional_1\"\n",
      "_________________________________________________________________\n",
      "Layer (type)                 Output Shape              Param #   \n",
      "=================================================================\n",
      "input_1 (InputLayer)         [(None, 32, 128, 1)]      0         \n",
      "_________________________________________________________________\n",
      "conv2d (Conv2D)              (None, 32, 128, 64)       640       \n",
      "_________________________________________________________________\n",
      "max_pooling2d (MaxPooling2D) (None, 16, 64, 64)        0         \n",
      "_________________________________________________________________\n",
      "conv2d_1 (Conv2D)            (None, 16, 64, 128)       73856     \n",
      "_________________________________________________________________\n",
      "max_pooling2d_1 (MaxPooling2 (None, 8, 32, 128)        0         \n",
      "_________________________________________________________________\n",
      "conv2d_2 (Conv2D)            (None, 8, 32, 256)        295168    \n",
      "_________________________________________________________________\n",
      "conv2d_3 (Conv2D)            (None, 8, 32, 256)        590080    \n",
      "_________________________________________________________________\n",
      "max_pooling2d_2 (MaxPooling2 (None, 4, 32, 256)        0         \n",
      "_________________________________________________________________\n",
      "conv2d_4 (Conv2D)            (None, 4, 32, 512)        1180160   \n",
      "_________________________________________________________________\n",
      "batch_normalization (BatchNo (None, 4, 32, 512)        2048      \n",
      "_________________________________________________________________\n",
      "conv2d_5 (Conv2D)            (None, 4, 32, 512)        2359808   \n",
      "_________________________________________________________________\n",
      "batch_normalization_1 (Batch (None, 4, 32, 512)        2048      \n",
      "_________________________________________________________________\n",
      "max_pooling2d_3 (MaxPooling2 (None, 2, 32, 512)        0         \n",
      "_________________________________________________________________\n",
      "conv2d_6 (Conv2D)            (None, 1, 31, 512)        1049088   \n",
      "_________________________________________________________________\n",
      "lambda (Lambda)              (None, 31, 512)           0         \n",
      "_________________________________________________________________\n",
      "bidirectional (Bidirectional (None, 31, 256)           656384    \n",
      "_________________________________________________________________\n",
      "bidirectional_1 (Bidirection (None, 31, 256)           394240    \n",
      "_________________________________________________________________\n",
      "dense (Dense)                (None, 31, 63)            16191     \n",
      "=================================================================\n",
      "Total params: 6,619,711\n",
      "Trainable params: 6,617,663\n",
      "Non-trainable params: 2,048\n",
      "_________________________________________________________________\n"
     ]
    }
   ],
   "source": [
    "act_model.summary()"
   ]
  },
  {
   "cell_type": "markdown",
   "id": "funny-accident",
   "metadata": {},
   "source": [
    "ACCURACY"
   ]
  },
  {
   "cell_type": "code",
   "execution_count": 20,
   "id": "superb-continent",
   "metadata": {},
   "outputs": [],
   "source": [
    "model.compile(loss={'ctc': lambda y_true, y_pred: y_pred}, optimizer = 'adam', metrics = ['accuracy'])"
   ]
  },
  {
   "cell_type": "code",
   "execution_count": 11,
   "id": "danish-insured",
   "metadata": {},
   "outputs": [],
   "source": [
    "model.load_weights('better_trained_model.hdf5')"
   ]
  },
  {
   "cell_type": "code",
   "execution_count": 22,
   "id": "durable-pepper",
   "metadata": {},
   "outputs": [
    {
     "name": "stdout",
     "output_type": "stream",
     "text": [
      "469/469 [==============================] - 135s 289ms/step - loss: 2.7462 - accuracy: 0.6823\n",
      "\n",
      "Loss = 2.746188163757324\n",
      "Test Accuracy = 0.6822666525840759\n"
     ]
    }
   ],
   "source": [
    "preds = model.evaluate(x = [valid_img, valid_padded_txt, valid_input_length, valid_label_length], y =np.zeros(len(valid_img)))\n",
    "print()\n",
    "print (\"Loss = \" + str(preds[0]))\n",
    "print (\"Test Accuracy = \" + str(preds[1]))"
   ]
  },
  {
   "cell_type": "code",
   "execution_count": 16,
   "id": "unlimited-adrian",
   "metadata": {},
   "outputs": [
    {
     "name": "stdout",
     "output_type": "stream",
     "text": [
      "282/282 [==============================] - 69s 245ms/step - loss: 1.2373 - accuracy: 0.7642\n",
      "\n",
      "Loss = 1.2372703552246094\n",
      "Test Accuracy = 0.7642222046852112\n"
     ]
    }
   ],
   "source": [
    "preds = model.evaluate(x=[training_img, train_padded_txt, train_input_length, train_label_length], y=np.zeros(len(training_img)))\n",
    "print()\n",
    "print (\"Loss = \" + str(preds[0]))\n",
    "print (\"Test Accuracy = \" + str(preds[1]))"
   ]
  },
  {
   "cell_type": "code",
   "execution_count": 12,
   "id": "generous-tracker",
   "metadata": {},
   "outputs": [],
   "source": [
    "from matplotlib.pyplot import imshow\n",
    "from keras.preprocessing import image"
   ]
  },
  {
   "cell_type": "markdown",
   "id": "wrong-winning",
   "metadata": {},
   "source": [
    "TEST"
   ]
  },
  {
   "cell_type": "code",
   "execution_count": 13,
   "id": "breathing-syndicate",
   "metadata": {},
   "outputs": [],
   "source": [
    "import itertools\n",
    "from matplotlib.pyplot import imshow"
   ]
  },
  {
   "cell_type": "code",
   "execution_count": 14,
   "id": "elder-quarterly",
   "metadata": {},
   "outputs": [],
   "source": [
    "letters = [letter for letter in char_list]"
   ]
  },
  {
   "cell_type": "code",
   "execution_count": 15,
   "id": "aggressive-proposition",
   "metadata": {},
   "outputs": [],
   "source": [
    "def decode_label(out):\n",
    "    # out : (1, 32, 128)\n",
    "    out_best = list(np.argmax(out[0,:,], axis=1))  \n",
    "    out_best = [k for k, g in itertools.groupby(out_best)]  \n",
    "    outstr = ''\n",
    "    for i in out_best:\n",
    "        if i < len(letters):\n",
    "            outstr += letters[i]\n",
    "    return outstr"
   ]
  },
  {
   "cell_type": "code",
   "execution_count": 52,
   "id": "specialized-cowboy",
   "metadata": {},
   "outputs": [],
   "source": [
    "test_img_path = 'C:\\\\Users\\\\ADMIN\\\\Downloads\\\\Capture2.JPG'"
   ]
  },
  {
   "cell_type": "code",
   "execution_count": 53,
   "id": "delayed-blackberry",
   "metadata": {},
   "outputs": [],
   "source": [
    "test_img = cv2.cvtColor(cv2.imread(test_img_path), cv2.COLOR_BGR2GRAY)"
   ]
  },
  {
   "cell_type": "code",
   "execution_count": 54,
   "id": "structural-redhead",
   "metadata": {},
   "outputs": [],
   "source": [
    "index = 120"
   ]
  },
  {
   "cell_type": "code",
   "execution_count": 55,
   "id": "respective-belle",
   "metadata": {},
   "outputs": [],
   "source": [
    "# test_img = training_img[index]"
   ]
  },
  {
   "cell_type": "code",
   "execution_count": 56,
   "id": "compliant-addition",
   "metadata": {},
   "outputs": [
    {
     "data": {
      "text/plain": [
       "<matplotlib.image.AxesImage at 0x2288d951bb0>"
      ]
     },
     "execution_count": 56,
     "metadata": {},
     "output_type": "execute_result"
    },
    {
     "data": {
      "image/png": "[encoded data removed]",
      "text/plain": [
       "<Figure size 432x288 with 1 Axes>"
      ]
     },
     "metadata": {
      "needs_background": "light"
     },
     "output_type": "display_data"
    }
   ],
   "source": [
    "imshow(test_img)"
   ]
  },
  {
   "cell_type": "code",
   "execution_count": 21,
   "id": "spare-organization",
   "metadata": {},
   "outputs": [
    {
     "ename": "NameError",
     "evalue": "name 'orig_txt' is not defined",
     "output_type": "error",
     "traceback": [
      "\u001b[1;31m---------------------------------------------------------------------------\u001b[0m",
      "\u001b[1;31mNameError\u001b[0m                                 Traceback (most recent call last)",
      "\u001b[1;32m<ipython-input-21-46e75d573425>\u001b[0m in \u001b[0;36m<module>\u001b[1;34m\u001b[0m\n\u001b[1;32m----> 1\u001b[1;33m \u001b[0morig_txt\u001b[0m\u001b[1;33m[\u001b[0m\u001b[0mindex\u001b[0m\u001b[1;33m]\u001b[0m\u001b[1;33m\u001b[0m\u001b[1;33m\u001b[0m\u001b[0m\n\u001b[0m",
      "\u001b[1;31mNameError\u001b[0m: name 'orig_txt' is not defined"
     ]
    }
   ],
   "source": [
    "orig_txt[index]"
   ]
  },
  {
   "cell_type": "code",
   "execution_count": 22,
   "id": "difficult-shock",
   "metadata": {
    "scrolled": true
   },
   "outputs": [
    {
     "ename": "NameError",
     "evalue": "name 'train_padded_txt' is not defined",
     "output_type": "error",
     "traceback": [
      "\u001b[1;31m---------------------------------------------------------------------------\u001b[0m",
      "\u001b[1;31mNameError\u001b[0m                                 Traceback (most recent call last)",
      "\u001b[1;32m<ipython-input-22-715a26cfba15>\u001b[0m in \u001b[0;36m<module>\u001b[1;34m\u001b[0m\n\u001b[1;32m----> 1\u001b[1;33m \u001b[0mtrain_padded_txt\u001b[0m\u001b[1;33m[\u001b[0m\u001b[0mindex\u001b[0m\u001b[1;33m]\u001b[0m\u001b[1;33m\u001b[0m\u001b[1;33m\u001b[0m\u001b[0m\n\u001b[0m",
      "\u001b[1;31mNameError\u001b[0m: name 'train_padded_txt' is not defined"
     ]
    }
   ],
   "source": [
    "train_padded_txt[index]"
   ]
  },
  {
   "cell_type": "code",
   "execution_count": 57,
   "id": "genetic-queens",
   "metadata": {},
   "outputs": [
    {
     "name": "stdout",
     "output_type": "stream",
     "text": [
      "(1, 32, 128)\n"
     ]
    }
   ],
   "source": [
    "im_pred = test_img\n",
    "im_pred= cv2.resize(im_pred, (128, 32))\n",
    "im_pred= np.expand_dims(im_pred, axis=0)\n",
    "print(im_pred.shape)"
   ]
  },
  {
   "cell_type": "code",
   "execution_count": 58,
   "id": "desirable-cruise",
   "metadata": {},
   "outputs": [
    {
     "name": "stdout",
     "output_type": "stream",
     "text": [
      "(1, 31, 63)\n"
     ]
    }
   ],
   "source": [
    "result2 = act_model.predict(im_pred)\n",
    "print(result2.shape)"
   ]
  },
  {
   "cell_type": "code",
   "execution_count": 26,
   "id": "excess-istanbul",
   "metadata": {
    "scrolled": true
   },
   "outputs": [
    {
     "data": {
      "text/plain": [
       "(1, 31, 63)"
      ]
     },
     "execution_count": 26,
     "metadata": {},
     "output_type": "execute_result"
    }
   ],
   "source": [
    "result2.shape"
   ]
  },
  {
   "cell_type": "code",
   "execution_count": 27,
   "id": "pacific-corps",
   "metadata": {},
   "outputs": [
    {
     "data": {
      "text/plain": [
       "array([[ 5, 62, 14, 62, 62, 62, 14, 62, 11, 11, 62,  8, 62, 18, 62,  7,\n",
       "        62, 62, 62, 13, 62, 62, 62,  4, 62, 62, 18, 62, 18, 18, 62]],\n",
       "      dtype=int64)"
      ]
     },
     "execution_count": 27,
     "metadata": {},
     "output_type": "execute_result"
    }
   ],
   "source": [
    "np.argmax(result2, axis=2)"
   ]
  },
  {
   "cell_type": "code",
   "execution_count": 28,
   "id": "beneficial-activity",
   "metadata": {
    "scrolled": true
   },
   "outputs": [
    {
     "data": {
      "text/plain": [
       "[5,\n",
       " 62,\n",
       " 14,\n",
       " 62,\n",
       " 62,\n",
       " 62,\n",
       " 14,\n",
       " 62,\n",
       " 11,\n",
       " 11,\n",
       " 62,\n",
       " 8,\n",
       " 62,\n",
       " 18,\n",
       " 62,\n",
       " 7,\n",
       " 62,\n",
       " 62,\n",
       " 62,\n",
       " 13,\n",
       " 62,\n",
       " 62,\n",
       " 62,\n",
       " 4,\n",
       " 62,\n",
       " 62,\n",
       " 18,\n",
       " 62,\n",
       " 18,\n",
       " 18,\n",
       " 62]"
      ]
     },
     "execution_count": 28,
     "metadata": {},
     "output_type": "execute_result"
    }
   ],
   "source": [
    "list(np.argmax(result2[0,:,], axis=1))"
   ]
  },
  {
   "cell_type": "code",
   "execution_count": 29,
   "id": "indonesian-powell",
   "metadata": {
    "scrolled": true
   },
   "outputs": [
    {
     "data": {
      "text/plain": [
       "[5,\n",
       " 62,\n",
       " 14,\n",
       " 62,\n",
       " 14,\n",
       " 62,\n",
       " 11,\n",
       " 62,\n",
       " 8,\n",
       " 62,\n",
       " 18,\n",
       " 62,\n",
       " 7,\n",
       " 62,\n",
       " 13,\n",
       " 62,\n",
       " 4,\n",
       " 62,\n",
       " 18,\n",
       " 62,\n",
       " 18,\n",
       " 62]"
      ]
     },
     "execution_count": 29,
     "metadata": {},
     "output_type": "execute_result"
    }
   ],
   "source": [
    "[k for k, g in itertools.groupby(list(np.argmax(result2[0,:,], axis=1)))]"
   ]
  },
  {
   "cell_type": "code",
   "execution_count": 59,
   "id": "living-extension",
   "metadata": {
    "scrolled": false
   },
   "outputs": [],
   "source": [
    "result2 = act_model.predict(im_pred)\n",
    "pred_texts = decode_label(result2)"
   ]
  },
  {
   "cell_type": "code",
   "execution_count": 60,
   "id": "sporting-limitation",
   "metadata": {
    "scrolled": false
   },
   "outputs": [
    {
     "data": {
      "text/plain": [
       "'foolishness'"
      ]
     },
     "execution_count": 60,
     "metadata": {},
     "output_type": "execute_result"
    }
   ],
   "source": [
    "pred_texts"
   ]
  },
  {
   "cell_type": "code",
   "execution_count": null,
   "id": "standard-thesis",
   "metadata": {},
   "outputs": [],
   "source": []
  }
 ],
 "metadata": {
  "kernelspec": {
   "display_name": "Python 3",
   "language": "python",
   "name": "python3"
  },
  "language_info": {
   "codemirror_mode": {
    "name": "ipython",
    "version": 3
   },
   "file_extension": ".py",
   "mimetype": "text/x-python",
   "name": "python",
   "nbconvert_exporter": "python",
   "pygments_lexer": "ipython3",
   "version": "3.8.5"
  }
 },
 "nbformat": 4,
 "nbformat_minor": 5
}
